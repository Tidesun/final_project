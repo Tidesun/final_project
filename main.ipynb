{
 "cells": [
  {
   "cell_type": "code",
   "execution_count": 1,
   "id": "54b357f5",
   "metadata": {},
   "outputs": [],
   "source": [
    "import pandas as pd\n",
    "import numpy as np"
   ]
  },
  {
   "cell_type": "code",
   "execution_count": 100,
   "id": "cfc1d545",
   "metadata": {},
   "outputs": [],
   "source": [
    "clinical_df = pd.read_csv('data/clinical.txt',sep='\\t').set_index('sampleID')\n",
    "clinical_columns = [col for col in clinical_df.columns if not col.startswith('_')]\n",
    "clinical_df = clinical_df.loc[:,clinical_columns]\n",
    "gene_df = pd.read_csv('data/gene_expression_array.txt',sep='\\t').set_index('sample').T\n",
    "original_gene_df = pd.read_csv('data/gene_expression_array.txt',sep='\\t').set_index('sample').T\n",
    "original_gene_df.index.name = 'sampleID'\n",
    "gene_df = gene_df - gene_df.mean(axis=0)\n",
    "normal_samples = clinical_df.loc[clinical_df['sample_type'] == 'Solid Tissue Normal'].index.intersection(gene_df.index)\n",
    "gene_df.index.name = 'sampleID'\n",
    "normal_gene_df = gene_df.loc[normal_samples]\n",
    "tumor_gene_df = gene_df[gene_df.index.map(lambda x:x not in normal_samples)]"
   ]
  },
  {
   "cell_type": "code",
   "execution_count": 103,
   "id": "b15b7b5c",
   "metadata": {},
   "outputs": [],
   "source": [
    "clinical_df.index = clinical_df.index.map(lambda x:'-'.join(x.split('-')[:-1]))\n",
    "tumor_gene_df.index = tumor_gene_df.index.map(lambda x:'-'.join(x.split('-')[:-1]))\n",
    "original_gene_df.index = original_gene_df.index.map(lambda x:'-'.join(x.split('-')[:-1]))\n",
    "patient_id_with_image = pd.read_csv('patient_id',header=None)[0]\n",
    "intersected_index = tumor_gene_df.index.intersection(patient_id_with_image)\n",
    "all_df = clinical_df[['clinical_stage']].loc[intersected_index].join(tumor_gene_df,how='inner').dropna()"
   ]
  },
  {
   "cell_type": "code",
   "execution_count": 63,
   "id": "3e2d02f4",
   "metadata": {},
   "outputs": [],
   "source": [
    "# rna_seq_df = pd.read_csv('data/TCGA-OV.htseq_fpkm.tsv',sep='\\t').set_index('Ensembl_ID').T\n",
    "# rna_seq_df.index.name = 'sampleID'\n",
    "# rna_seq_df.index = rna_seq_df.index.map(lambda x:'-'.join(x.split('-')[:-1]))"
   ]
  },
  {
   "cell_type": "code",
   "execution_count": 74,
   "id": "deb0371e",
   "metadata": {},
   "outputs": [],
   "source": [
    "import scipy.stats as stats"
   ]
  },
  {
   "cell_type": "code",
   "execution_count": 76,
   "id": "2abf93d4",
   "metadata": {},
   "outputs": [],
   "source": [
    "rows = []\n",
    "for gene in gene_df.columns:\n",
    "    normal = normal_gene_df[gene]\n",
    "    tumor = all_df[gene]\n",
    "    res = stats.ttest_ind(normal, tumor)\n",
    "    rows.append([gene,res.pvalue])"
   ]
  },
  {
   "cell_type": "code",
   "execution_count": 77,
   "id": "1124c555",
   "metadata": {},
   "outputs": [],
   "source": [
    "p_val_df = pd.DataFrame(rows,columns =['Gene','pvalue'])\n",
    "p_val_df = p_val_df.sort_values(by='pvalue')"
   ]
  },
  {
   "cell_type": "code",
   "execution_count": 91,
   "id": "036fe08c",
   "metadata": {},
   "outputs": [],
   "source": [
    "gene_list = p_val_df.loc[p_val_df['pvalue']<0.05,'Gene'].values"
   ]
  },
  {
   "cell_type": "code",
   "execution_count": 87,
   "id": "62127464",
   "metadata": {},
   "outputs": [
    {
     "data": {
      "text/html": [
       "<div>\n",
       "<style scoped>\n",
       "    .dataframe tbody tr th:only-of-type {\n",
       "        vertical-align: middle;\n",
       "    }\n",
       "\n",
       "    .dataframe tbody tr th {\n",
       "        vertical-align: top;\n",
       "    }\n",
       "\n",
       "    .dataframe thead th {\n",
       "        text-align: right;\n",
       "    }\n",
       "</style>\n",
       "<table border=\"1\" class=\"dataframe\">\n",
       "  <thead>\n",
       "    <tr style=\"text-align: right;\">\n",
       "      <th></th>\n",
       "      <th>Gene</th>\n",
       "      <th>pvalue</th>\n",
       "    </tr>\n",
       "  </thead>\n",
       "  <tbody>\n",
       "    <tr>\n",
       "      <th>1950</th>\n",
       "      <td>BRCA2</td>\n",
       "      <td>0.00484</td>\n",
       "    </tr>\n",
       "  </tbody>\n",
       "</table>\n",
       "</div>"
      ],
      "text/plain": [
       "       Gene   pvalue\n",
       "1950  BRCA2  0.00484"
      ]
     },
     "execution_count": 87,
     "metadata": {},
     "output_type": "execute_result"
    }
   ],
   "source": [
    "p_val_df[p_val_df['Gene'] == 'BRCA2']"
   ]
  },
  {
   "cell_type": "code",
   "execution_count": 80,
   "id": "9b095396",
   "metadata": {},
   "outputs": [],
   "source": [
    "p_val_df.loc[p_val_df['pvalue']<0.05,'Gene'].to_csv('gene_list.txt',index=False,header=False)"
   ]
  },
  {
   "cell_type": "code",
   "execution_count": 95,
   "id": "6da9b4e0",
   "metadata": {},
   "outputs": [],
   "source": [
    "all_df[['clinical_stage','BRCA2']].to_csv('BRCA2_expression.tsv',sep='\\t')"
   ]
  },
  {
   "cell_type": "code",
   "execution_count": 96,
   "id": "1571fe0a",
   "metadata": {},
   "outputs": [],
   "source": [
    "all_df[['clinical_stage']+list(gene_list)].to_csv('all_DEG_expression.tsv',sep='\\t')"
   ]
  },
  {
   "cell_type": "code",
   "execution_count": 105,
   "id": "f4b3c1b6",
   "metadata": {},
   "outputs": [],
   "source": [
    "all_df[['clinical_stage','BRCA2']].join(original_gene_df['BRCA2'],how='inner',lsuffix='_zero_centered',rsuffix='_original').to_csv('BRCA2_expression.tsv',sep='\\t')"
   ]
  },
  {
   "cell_type": "code",
   "execution_count": null,
   "id": "d4a2c57f",
   "metadata": {},
   "outputs": [],
   "source": []
  }
 ],
 "metadata": {
  "kernelspec": {
   "display_name": "jupnb",
   "language": "python",
   "name": "jupnb"
  },
  "language_info": {
   "codemirror_mode": {
    "name": "ipython",
    "version": 3
   },
   "file_extension": ".py",
   "mimetype": "text/x-python",
   "name": "python",
   "nbconvert_exporter": "python",
   "pygments_lexer": "ipython3",
   "version": "3.6.13"
  }
 },
 "nbformat": 4,
 "nbformat_minor": 5
}
